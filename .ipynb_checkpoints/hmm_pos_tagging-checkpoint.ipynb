{
 "cells": [
  {
   "cell_type": "markdown",
   "metadata": {},
   "source": [
    "# 隐马尔可夫模型词性标注"
   ]
  },
  {
   "cell_type": "markdown",
   "metadata": {},
   "source": [
    "## 1 隐马尔可夫模型（Hidden Markov Model）\n"
   ]
  },
  {
   "cell_type": "markdown",
   "metadata": {},
   "source": [
    "$y_{t}$：$t$时刻，观测变量；\n",
    "\n",
    "$z_{t}$：$t$时刻，隐含变量。"
   ]
  },
  {
   "cell_type": "markdown",
   "metadata": {},
   "source": [
    "![](./img/hmm_fig_1.jpg)"
   ]
  },
  {
   "cell_type": "markdown",
   "metadata": {},
   "source": [
    "## 2 词性标注（part of speech tagging，POS-Tagging）"
   ]
  },
  {
   "cell_type": "markdown",
   "metadata": {},
   "source": [
    "**隐马尔可夫模型参数**：\n",
    "\n",
    "* 隐含状态：词性\n",
    "\n",
    "* 观测状态：词条\n",
    "\n",
    "* 初始概率：$P_{\\text{init}}$\n",
    "\n",
    "* 状态转移矩阵：$\\mathbf{A}$\n",
    "\n",
    "* 发射矩阵：$\\mathbf{B}$"
   ]
  },
  {
   "cell_type": "markdown",
   "metadata": {},
   "source": [
    "## 3 维特比算法"
   ]
  },
  {
   "cell_type": "markdown",
   "metadata": {},
   "source": [
    "## 4 实现"
   ]
  },
  {
   "cell_type": "markdown",
   "metadata": {},
   "source": [
    "### 4.1 语料库"
   ]
  },
  {
   "cell_type": "code",
   "execution_count": null,
   "metadata": {},
   "outputs": [],
   "source": [
    "tag2id = {}\n",
    "id2tag = {}\n",
    "word2id = {}\n",
    "id2word = {}\n",
    "\n",
    "tag_filepath = \"./data/traindata.txt\"\n",
    "\n",
    "with open(tag_filepath, \"r\") as f:\n",
    "    \n",
    "    id_word = 1\n",
    "    id_tag = 1\n",
    "    for line in f.readlines():\n",
    "        word, tag =  line.strip().split(\"/\")\n",
    "        \n",
    "        if word not in word2id:\n",
    "            word2id[word] = id_word\n",
    "            id2word[id_word] = word\n",
    "            id_word += 1\n",
    "            \n",
    "        if tag not in tag2id:\n",
    "            tag2id[tag] = id_tag\n",
    "            id2tag[id_tag] = tag\n",
    "            id_tag += 1"
   ]
  },
  {
   "cell_type": "code",
   "execution_count": 5,
   "metadata": {},
   "outputs": [
    {
     "name": "stdout",
     "output_type": "stream",
     "text": [
      "tag size: 54\n",
      "tag2id: {'NNP': 1, ',': 2, 'VBG': 3, 'TO': 4, 'VB': 5, 'NN': 6, 'IN': 7, 'JJ': 8, 'VBD': 9, 'NNS': 10, 'CD': 11, 'CC': 12, 'PRP': 13, 'MD': 14, 'DT': 15, '.': 16, 'VBZ': 17, 'VBN': 18, 'WDT': 19, 'VBP': 20, 'POS': 21, 'RB': 22, '$': 23, 'PRP$': 24, ':': 25, 'JJR': 26, '``': 27, \"''\": 28, 'WP': 29, 'JJS': 30, 'WRB': 31, 'RBR': 32, 'NNPS': 33, 'RP': 34, 'WP$': 35, 'EX': 36, '(': 37, ')': 38, 'PDT': 39, 'RBS': 40, 'FW': 41, 'UH': 42, 'SYM': 43, 'LS': 44, '#': 45, 'VBG|NN': 46, 'JJ|NN': 47, 'RB|IN': 48, 'NNS|NN': 49, 'VBN|JJ': 50, 'VB|NN': 51, 'RBR|JJR': 52, 'NN|NNS': 53, 'JJ|RB': 54}\n"
     ]
    }
   ],
   "source": [
    "            \n",
    "print(\"tag size: {}\".format(len(tag2id)))\n",
    "print(\"tag2id: {}\".format(tag2id))"
   ]
  },
  {
   "cell_type": "markdown",
   "metadata": {},
   "source": [
    "### 4.2 统计"
   ]
  },
  {
   "cell_type": "code",
   "execution_count": 6,
   "metadata": {},
   "outputs": [],
   "source": [
    "import pandas as pd\n",
    "import numpy as np"
   ]
  },
  {
   "cell_type": "code",
   "execution_count": 16,
   "metadata": {},
   "outputs": [],
   "source": [
    "num_tags = len(tag2id)\n",
    "num_words = len(word2id)\n",
    "\n",
    "# transition probability matrix A\n",
    "transit_probs = pd.DataFrame(\n",
    "    data=np.zeros(shape=(num_tags, num_tags)),\n",
    "    columns=tag2id.keys(),\n",
    "    index=tag2id.keys()\n",
    ")\n",
    "\n",
    "with open(tag_filepath, \"r\") as f:\n",
    "    line = f.readline()\n",
    "    _, tag_current = line.strip().split(\"/\")\n",
    "    while line:\n",
    "        _, tag_next = line.strip().split(\"/\")\n",
    "        transit_probs.loc[tag_current, tag_next] += 1\n",
    "        tag_current = tag_next\n",
    "        line = f.readline()\n",
    "        \n",
    "transit_probs /= transit_probs.sum()\n",
    "\n",
    "# emission probability matrix B\n",
    "emission_probs = pd.DataFrame(\n",
    "    data=np.zeros(shape=(num_tags, num_words)),\n",
    "    columns=word2id.keys(),\n",
    "    index=tag2id.keys()\n",
    ")\n",
    "\n",
    "with open(tag_filepath, \"r\") as f:\n",
    "    \n",
    "    for line in f.readlines():\n",
    "        word, tag = line.strip().split(\"/\")\n",
    "        emission_probs.loc[tag, word] += 1\n",
    "        "
   ]
  },
  {
   "cell_type": "code",
   "execution_count": 19,
   "metadata": {},
   "outputs": [
    {
     "name": "stdout",
     "output_type": "stream",
     "text": [
      "transition probability matrix, A:\n",
      "        NNP       ,    VBG     TO      VB      NN     IN     JJ     VBD  \\\n",
      "NNP  7346.0  2749.0   25.0  160.0    19.0  1023.0  828.0  169.0  1303.0   \n",
      ",    1339.0     0.0  456.0   85.0    38.0   469.0  787.0  445.0   527.0   \n",
      "VBG   117.0    45.0   15.0  281.0     5.0   429.0  428.0  227.0     8.0   \n",
      "TO    199.0     3.0   29.0    0.0  2704.0   130.0   25.0  159.0     0.0   \n",
      "VB    190.0   100.0   90.0  221.0    36.0   355.0  653.0  492.0     8.0   \n",
      "\n",
      "       NNS  ...     #  VBG|NN  JJ|NN  RB|IN  NNS|NN  VBN|JJ  VB|NN  RBR|JJR  \\\n",
      "NNP  452.0  ...   0.0     0.0    0.0    0.0     0.0     0.0    0.0      0.0   \n",
      ",    280.0  ...   0.0     0.0    0.0    0.0     0.0     0.0    0.0      0.0   \n",
      "VBG  282.0  ...   0.0     0.0    1.0    0.0     0.0     0.0    0.0      0.0   \n",
      "TO   109.0  ...  14.0     0.0    0.0    0.0     0.0     0.0    1.0      0.0   \n",
      "VB   255.0  ...   0.0     0.0    0.0    0.0     0.0     0.0    0.0      0.0   \n",
      "\n",
      "     NN|NNS  JJ|RB  \n",
      "NNP     0.0    0.0  \n",
      ",       0.0    0.0  \n",
      "VBG     0.0    0.0  \n",
      "TO      0.0    0.0  \n",
      "VB      1.0    0.0  \n",
      "\n",
      "[5 rows x 54 columns]\n",
      "emission probability matrix, B:\n",
      "     Newsweek        ,  trying      to  keep  pace  with  rival  Time  \\\n",
      "NNP      10.0      0.0     0.0     0.0   0.0   0.0   0.0    0.0  17.0   \n",
      ",         0.0  10085.0     0.0     0.0   0.0   0.0   0.0    0.0   0.0   \n",
      "VBG       0.0      0.0    46.0     0.0   0.0   0.0   0.0    0.0   0.0   \n",
      "TO        0.0      0.0     0.0  4625.0   0.0   0.0   0.0    0.0   0.0   \n",
      "VB        0.0      0.0     0.0     0.0  29.0   0.0   0.0    0.0   0.0   \n",
      "\n",
      "     magazine  ...  platform  trillion-dollar  Amaury  Souza  valiant  \\\n",
      "NNP       0.0  ...       0.0              0.0     1.0    1.0      0.0   \n",
      ",         0.0  ...       0.0              0.0     0.0    0.0      0.0   \n",
      "VBG       0.0  ...       0.0              0.0     0.0    0.0      0.0   \n",
      "TO        0.0  ...       0.0              0.0     0.0    0.0      0.0   \n",
      "VB        0.0  ...       0.0              0.0     0.0    0.0      0.0   \n",
      "\n",
      "     Mailson  Ferreira  Nobrega  endured  massively  \n",
      "NNP      1.0       1.0      1.0      0.0        0.0  \n",
      ",        0.0       0.0      0.0      0.0        0.0  \n",
      "VBG      0.0       0.0      0.0      0.0        0.0  \n",
      "TO       0.0       0.0      0.0      0.0        0.0  \n",
      "VB       0.0       0.0      0.0      0.0        0.0  \n",
      "\n",
      "[5 rows x 18978 columns]\n"
     ]
    }
   ],
   "source": [
    "print(\"transition probability matrix, A:\")\n",
    "print(transit_probs.head())\n",
    "\n",
    "print(\"emission probability matrix, B:\")\n",
    "print(emission_probs.head())\n"
   ]
  },
  {
   "cell_type": "code",
   "execution_count": 27,
   "metadata": {},
   "outputs": [
    {
     "data": {
      "text/plain": [
       "NNP        19374.0\n",
       ",          10087.0\n",
       "VBG         3154.0\n",
       "TO          4667.0\n",
       "VB          5564.0\n",
       "NN         27667.0\n",
       "IN         20672.0\n",
       "JJ         13037.0\n",
       "VBD         6374.0\n",
       "NNS        12656.0\n",
       "CD          7309.0\n",
       "CC          4944.0\n",
       "PRP         3722.0\n",
       "MD          2038.0\n",
       "DT         17273.0\n",
       ".           8194.0\n",
       "VBZ         4415.0\n",
       "VBN         4190.0\n",
       "WDT          951.0\n",
       "VBP         2700.0\n",
       "POS         1819.0\n",
       "RB          6315.0\n",
       "$           1324.0\n",
       "PRP$        1742.0\n",
       ":           1098.0\n",
       "JJR          731.0\n",
       "``          1534.0\n",
       "''          1531.0\n",
       "WP           515.0\n",
       "JJS          377.0\n",
       "WRB          411.0\n",
       "RBR          327.0\n",
       "NNPS         558.0\n",
       "RP           361.0\n",
       "WP$           37.0\n",
       "EX           169.0\n",
       "(            328.0\n",
       ")            335.0\n",
       "PDT           65.0\n",
       "RBS           80.0\n",
       "FW            53.0\n",
       "UH            10.0\n",
       "SYM            2.0\n",
       "LS            24.0\n",
       "#             43.0\n",
       "VBG|NN         2.0\n",
       "JJ|NN          3.0\n",
       "RB|IN          1.0\n",
       "NNS|NN         3.0\n",
       "VBN|JJ         2.0\n",
       "VB|NN          2.0\n",
       "RBR|JJR        2.0\n",
       "NN|NNS         3.0\n",
       "JJ|RB          1.0\n",
       "dtype: float64"
      ]
     },
     "execution_count": 27,
     "metadata": {},
     "output_type": "execute_result"
    }
   ],
   "source": [
    "emission_probs.sum(axis=1)"
   ]
  },
  {
   "cell_type": "code",
   "execution_count": 29,
   "metadata": {},
   "outputs": [
    {
     "data": {
      "text/plain": [
       "NNP        0.000516\n",
       ",          0.000000\n",
       "VBG        0.000000\n",
       "TO         0.000000\n",
       "VB         0.000000\n",
       "NN         0.000000\n",
       "IN         0.000000\n",
       "JJ         0.000000\n",
       "VBD        0.000000\n",
       "NNS        0.000000\n",
       "CD         0.000000\n",
       "CC         0.000000\n",
       "PRP        0.000000\n",
       "MD         0.000000\n",
       "DT         0.000000\n",
       ".          0.000000\n",
       "VBZ        0.000000\n",
       "VBN        0.000000\n",
       "WDT        0.000000\n",
       "VBP        0.000000\n",
       "POS        0.000000\n",
       "RB         0.000000\n",
       "$          0.000000\n",
       "PRP$       0.000000\n",
       ":          0.000000\n",
       "JJR        0.000000\n",
       "``         0.000000\n",
       "''         0.000000\n",
       "WP         0.000000\n",
       "JJS        0.000000\n",
       "WRB        0.000000\n",
       "RBR        0.000000\n",
       "NNPS       0.000000\n",
       "RP         0.000000\n",
       "WP$        0.000000\n",
       "EX         0.000000\n",
       "(          0.000000\n",
       ")          0.000000\n",
       "PDT        0.000000\n",
       "RBS        0.000000\n",
       "FW         0.000000\n",
       "UH         0.000000\n",
       "SYM        0.000000\n",
       "LS         0.000000\n",
       "#          0.000000\n",
       "VBG|NN     0.000000\n",
       "JJ|NN      0.000000\n",
       "RB|IN      0.000000\n",
       "NNS|NN     0.000000\n",
       "VBN|JJ     0.000000\n",
       "VB|NN      0.000000\n",
       "RBR|JJR    0.000000\n",
       "NN|NNS     0.000000\n",
       "JJ|RB      0.000000\n",
       "dtype: float64"
      ]
     },
     "execution_count": 29,
     "metadata": {},
     "output_type": "execute_result"
    }
   ],
   "source": [
    "\n",
    "\n",
    "emission_probs.iloc[:, 0] / emission_probs.sum(axis=1)"
   ]
  },
  {
   "cell_type": "markdown",
   "metadata": {},
   "source": [
    "## 4.3 Viterbi"
   ]
  },
  {
   "cell_type": "code",
   "execution_count": 20,
   "metadata": {},
   "outputs": [],
   "source": [
    "EPSILON = 1e-5\n",
    "\n",
    "def log(x):\n",
    "    return np.log(x + EPSILON)"
   ]
  },
  {
   "cell_type": "code",
   "execution_count": null,
   "metadata": {},
   "outputs": [],
   "source": [
    "def viterbi():\n",
    "    pass"
   ]
  }
 ],
 "metadata": {
  "kernelspec": {
   "display_name": "Python 3",
   "language": "python",
   "name": "python3"
  },
  "language_info": {
   "codemirror_mode": {
    "name": "ipython",
    "version": 3
   },
   "file_extension": ".py",
   "mimetype": "text/x-python",
   "name": "python",
   "nbconvert_exporter": "python",
   "pygments_lexer": "ipython3",
   "version": "3.6.9"
  }
 },
 "nbformat": 4,
 "nbformat_minor": 2
}
